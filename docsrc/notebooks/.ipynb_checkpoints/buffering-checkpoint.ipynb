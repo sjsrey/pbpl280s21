{
 "cells": [
  {
   "cell_type": "markdown",
   "id": "c5d4f394-e19a-45ac-8dda-5c73b60d0308",
   "metadata": {},
   "source": [
    "# Buffering"
   ]
  },
  {
   "cell_type": "code",
   "execution_count": null,
   "id": "3a7ccce4-a6b8-4682-832a-5f950df51a0b",
   "metadata": {},
   "outputs": [],
   "source": [
    "import geopandas\n",
    "import matplotlib.pyplot as plt\n",
    "plt.rcParams['figure.figsize'] = [12, 8]"
   ]
  },
  {
   "cell_type": "code",
   "execution_count": null,
   "id": "5b71278c-d789-4ea0-a6bc-c24da1718759",
   "metadata": {},
   "outputs": [],
   "source": [
    "clinics_df = geopandas.read_file('data/behavioralHealth.shp')"
   ]
  },
  {
   "cell_type": "code",
   "execution_count": null,
   "id": "5e47fcec-c1f3-4dad-bd9a-6cbc06f06683",
   "metadata": {},
   "outputs": [],
   "source": [
    "clinics_df.plot()"
   ]
  },
  {
   "cell_type": "code",
   "execution_count": null,
   "id": "3bcdf39f-efa8-4f16-aac8-5ba524ee4490",
   "metadata": {},
   "outputs": [],
   "source": [
    "clinics_df.crs"
   ]
  },
  {
   "cell_type": "code",
   "execution_count": null,
   "id": "ce09e79a-bc22-43c8-9b90-10c9968c54f0",
   "metadata": {},
   "outputs": [],
   "source": [
    "tracts_df = geopandas.read_file('data/california_tracts.shp')"
   ]
  },
  {
   "cell_type": "code",
   "execution_count": null,
   "id": "6142380e-470c-4a8d-9c43-0abb506018ac",
   "metadata": {},
   "outputs": [],
   "source": [
    "tracts_df.plot()"
   ]
  },
  {
   "cell_type": "code",
   "execution_count": null,
   "id": "5f8ee9fd-a93d-4d4e-9e86-dc2ddd1639fb",
   "metadata": {},
   "outputs": [],
   "source": [
    "tracts_df.crs"
   ]
  },
  {
   "cell_type": "code",
   "execution_count": null,
   "id": "1e0db5d5-652e-4fe1-b514-cf174d5e6c53",
   "metadata": {},
   "outputs": [],
   "source": [
    "tracts_df.to_crs(clinics_df.crs).plot()"
   ]
  },
  {
   "cell_type": "code",
   "execution_count": null,
   "id": "6bd6b055-c302-4875-9235-c10a2e6a1797",
   "metadata": {},
   "outputs": [],
   "source": [
    "projected_tracts_df = tracts_df.to_crs(clinics_df.crs)"
   ]
  },
  {
   "cell_type": "code",
   "execution_count": null,
   "id": "504ae74e-4142-449d-8326-fdb257dbca3e",
   "metadata": {},
   "outputs": [],
   "source": [
    "projected_tracts_df.crs"
   ]
  },
  {
   "cell_type": "code",
   "execution_count": null,
   "id": "43af2c16-660f-459e-b3b1-ef968723fd72",
   "metadata": {},
   "outputs": [],
   "source": [
    "projected_tracts_df.head()"
   ]
  },
  {
   "cell_type": "markdown",
   "id": "8ffa7d1c-7741-4227-818d-b70abb21989f",
   "metadata": {},
   "source": [
    "FIPS: https://www.weather.gov/hnx/cafips"
   ]
  },
  {
   "cell_type": "code",
   "execution_count": null,
   "id": "2ffe3664-55e7-4075-835c-5e726430af60",
   "metadata": {},
   "outputs": [],
   "source": [
    "riverside_tracts = projected_tracts_df[projected_tracts_df.GEOID10.str.startswith('06065')]"
   ]
  },
  {
   "cell_type": "code",
   "execution_count": null,
   "id": "140cae2c-f56d-4791-a0f2-891a5d26af40",
   "metadata": {},
   "outputs": [],
   "source": [
    "riverside_tracts.plot()"
   ]
  },
  {
   "cell_type": "code",
   "execution_count": null,
   "id": "a1f98286-f635-4d39-a387-dbb772c71e19",
   "metadata": {},
   "outputs": [],
   "source": [
    "centroids = riverside_tracts.geometry.centroid # tract centroids"
   ]
  },
  {
   "cell_type": "code",
   "execution_count": null,
   "id": "1f2c543a-ae27-4918-bdc4-73e26c8cfee3",
   "metadata": {},
   "outputs": [],
   "source": [
    "centroids.plot()"
   ]
  },
  {
   "cell_type": "code",
   "execution_count": null,
   "id": "ed2c41a6-718c-4e55-b3ce-0bd38e1b2a82",
   "metadata": {},
   "outputs": [],
   "source": [
    "base = centroids.plot()\n",
    "clinics_df.plot(ax=base)"
   ]
  },
  {
   "cell_type": "code",
   "execution_count": null,
   "id": "1c4e3166-4440-45aa-8dd0-f06329629439",
   "metadata": {},
   "outputs": [],
   "source": [
    "clinic_buffer_3000 = clinics_df.buffer(3000)"
   ]
  },
  {
   "cell_type": "code",
   "execution_count": null,
   "id": "ae55ec6d-fa46-4c9a-b674-340808f17f7c",
   "metadata": {},
   "outputs": [],
   "source": [
    "base = clinic_buffer_3000.plot()\n",
    "clinics_df.plot(ax=base, color='red')"
   ]
  },
  {
   "cell_type": "code",
   "execution_count": null,
   "id": "f1b2149c-3b3f-43c4-860d-c165a30164e5",
   "metadata": {},
   "outputs": [],
   "source": [
    "clinic_buffer_3000.geometry"
   ]
  },
  {
   "cell_type": "code",
   "execution_count": null,
   "id": "1d54e73c-7206-4407-b451-5d703dbb6eae",
   "metadata": {},
   "outputs": [],
   "source": [
    "base = clinic_buffer_3000.plot()\n",
    "clinics_df.plot(ax=base, color='red')"
   ]
  },
  {
   "cell_type": "markdown",
   "id": "15a7d4c4-8175-456a-9185-da7ea4c55b31",
   "metadata": {},
   "source": [
    "## What tracts intersect with one or more clinic buffers?"
   ]
  },
  {
   "cell_type": "code",
   "execution_count": null,
   "id": "116b9616-2573-4a9e-ac6d-ab8303373091",
   "metadata": {},
   "outputs": [],
   "source": [
    "centroids = geopandas.GeoDataFrame(geometry=centroids)\n",
    "clinic_buffer_3000 = geopandas.GeoDataFrame(geometry=clinic_buffer_3000)\n",
    "centroids_intersecting = geopandas.sjoin(centroids, clinic_buffer_3000, how='inner', op='intersects')"
   ]
  },
  {
   "cell_type": "code",
   "execution_count": null,
   "id": "e2eae659-035e-4b09-9dc2-de15c8f196a8",
   "metadata": {},
   "outputs": [],
   "source": [
    "centroids_intersecting.head()"
   ]
  },
  {
   "cell_type": "code",
   "execution_count": null,
   "id": "00b589ff-6ef0-457b-ab15-108f3455e82c",
   "metadata": {},
   "outputs": [],
   "source": [
    "centroids_intersecting.shape"
   ]
  },
  {
   "cell_type": "code",
   "execution_count": null,
   "id": "3e350438-5442-409b-aa94-7fb7a3770143",
   "metadata": {},
   "outputs": [],
   "source": [
    "tracts_intersecting = geopandas.sjoin(riverside_tracts, clinic_buffer_3000, how='inner', op='intersects')"
   ]
  },
  {
   "cell_type": "code",
   "execution_count": null,
   "id": "53a8b58f-a03d-4530-90fa-7682a18089d1",
   "metadata": {},
   "outputs": [],
   "source": [
    "tracts_intersecting.head()"
   ]
  },
  {
   "cell_type": "code",
   "execution_count": null,
   "id": "1f5f517d-5241-4c11-b026-280f25d1d927",
   "metadata": {},
   "outputs": [],
   "source": [
    "tracts_intersecting.shape"
   ]
  },
  {
   "cell_type": "markdown",
   "id": "84e75ddf-1650-4f32-8921-6a1ed5f830ad",
   "metadata": {},
   "source": [
    "There are 132 cases of a tract intersecting a clinic buffer"
   ]
  },
  {
   "cell_type": "markdown",
   "id": "4659bcda-2f70-4e4a-8850-e829645c1edd",
   "metadata": {},
   "source": [
    "## Create a new attribute for the tracts reporting the number of clinics within 3000 feet of the tract polygon"
   ]
  },
  {
   "cell_type": "code",
   "execution_count": null,
   "id": "cfc865b6-ea15-4b30-998d-6f07c009ee39",
   "metadata": {},
   "outputs": [],
   "source": [
    "tracts_intersecting.groupby(by='GEOID10').count()"
   ]
  },
  {
   "cell_type": "code",
   "execution_count": null,
   "id": "e9bf1c21-79eb-426c-bdab-6bfdb3804b9b",
   "metadata": {},
   "outputs": [],
   "source": [
    "riverside_tracts.merge(tracts_intersecting.groupby(by='GEOID10').count()['index_right'], on=\"GEOID10\")"
   ]
  },
  {
   "cell_type": "code",
   "execution_count": null,
   "id": "ecb6d46b-cd4c-4701-9652-f478964eb096",
   "metadata": {},
   "outputs": [],
   "source": [
    "riverside_tracts.merge(tracts_intersecting.groupby(by='GEOID10').count()['index_right'], on=\"GEOID10\", how='left')"
   ]
  },
  {
   "cell_type": "code",
   "execution_count": null,
   "id": "3aad6459-c92e-4e5a-9848-a5c73f8643a5",
   "metadata": {},
   "outputs": [],
   "source": [
    "riverside_tracts.shape"
   ]
  },
  {
   "cell_type": "markdown",
   "id": "388d1267-aa43-405a-a589-8f6253e04084",
   "metadata": {},
   "source": [
    "So the left merge makes sure all the original tracts are included in the merge, even if they do not intersect with a buffer. In those cases a `NaN` is inserted.\n",
    "\n",
    "We can replace the `NaN` values with `0`s."
   ]
  },
  {
   "cell_type": "code",
   "execution_count": null,
   "id": "3e90ae6d-5d8c-4699-927e-060bf3ad0698",
   "metadata": {},
   "outputs": [],
   "source": [
    "riverside_tracts.merge(tracts_intersecting.groupby(by='GEOID10').count()['index_right'], on=\"GEOID10\", how='left').fillna(0)"
   ]
  },
  {
   "cell_type": "code",
   "execution_count": null,
   "id": "51126664-b7f5-4a3c-84e9-e0adad376b57",
   "metadata": {},
   "outputs": [],
   "source": [
    "riverside_tracts.merge(tracts_intersecting.groupby(by='GEOID10').count()['index_right'], on=\"GEOID10\", how='left').fillna(0).rename(columns={'index_right':'clinics'})"
   ]
  },
  {
   "cell_type": "code",
   "execution_count": null,
   "id": "319de1ef-ca45-4731-b913-02c3d9ca5419",
   "metadata": {},
   "outputs": [],
   "source": [
    "riverside_tracts_clinics = riverside_tracts.merge(tracts_intersecting.groupby(by='GEOID10').count()['index_right'], on=\"GEOID10\", how='left').fillna(0).rename(columns={'index_right':'clinics'})"
   ]
  },
  {
   "cell_type": "code",
   "execution_count": null,
   "id": "df9396f2-260b-47e2-bc9e-f91370dc1930",
   "metadata": {},
   "outputs": [],
   "source": [
    "riverside_tracts_clinics.plot(column='clinics', scheme='Quantiles')"
   ]
  },
  {
   "cell_type": "code",
   "execution_count": null,
   "id": "591251c9-be51-4d01-91aa-920df629f80e",
   "metadata": {},
   "outputs": [],
   "source": [
    "riverside_tracts_clinics.plot(column='clinics', scheme='FisherJenks', k=5, legend=True)"
   ]
  },
  {
   "cell_type": "markdown",
   "id": "7eb08ccc-01e0-45f3-bf08-fed90dd7d240",
   "metadata": {},
   "source": [
    "## Order matters\n",
    "\n",
    "Note that it could be that a single clinic buffer intersects with more than a single tract."
   ]
  },
  {
   "cell_type": "code",
   "execution_count": null,
   "id": "34620a73-6ec5-47dc-a6c2-31e33690abf9",
   "metadata": {},
   "outputs": [],
   "source": [
    "clinics_intersecting = geopandas.sjoin(clinic_buffer_3000, riverside_tracts, how='left', op='intersects')"
   ]
  },
  {
   "cell_type": "code",
   "execution_count": null,
   "id": "5a18bedc-d585-48a6-b4c4-c128dc18c7cf",
   "metadata": {},
   "outputs": [],
   "source": [
    "clinics_intersecting.shape"
   ]
  },
  {
   "cell_type": "code",
   "execution_count": null,
   "id": "4ab4ffbb-0cfe-45b1-acc3-26ae3c791292",
   "metadata": {},
   "outputs": [],
   "source": [
    "clinics_df.shape"
   ]
  },
  {
   "cell_type": "markdown",
   "id": "f1c2671f-9118-4ed6-9cfb-ad25ad48339f",
   "metadata": {},
   "source": [
    "There are only 28 clinics, each with a buffer. But there are 132 intersections involving a buffer and a tract"
   ]
  },
  {
   "cell_type": "code",
   "execution_count": null,
   "id": "e361f229-a990-45d1-877c-67ba91f6a159",
   "metadata": {},
   "outputs": [],
   "source": [
    "clinics_intersecting.head()"
   ]
  },
  {
   "cell_type": "markdown",
   "id": "7d4ddecd-434a-4ea2-bd6c-247881933c04",
   "metadata": {},
   "source": [
    "here the index is the index of the clinic buffer, and we see the first index, 0, repeats 4 times."
   ]
  },
  {
   "cell_type": "code",
   "execution_count": null,
   "id": "de11e230-2645-4d7f-9a3b-644ef1bc5a85",
   "metadata": {},
   "outputs": [],
   "source": [
    "clinics_intersecting['clinic'] = clinics_intersecting.index\n",
    "clinics_intersecting.reset_index(level=0, inplace=True)"
   ]
  },
  {
   "cell_type": "code",
   "execution_count": null,
   "id": "c552d912-87eb-4ea7-b853-ec27972e8859",
   "metadata": {},
   "outputs": [],
   "source": [
    "clinics_intersecting.head()"
   ]
  },
  {
   "cell_type": "code",
   "execution_count": null,
   "id": "9e3d40e0-92c5-449e-a9a5-c0bec1feab4d",
   "metadata": {},
   "outputs": [],
   "source": [
    "clinics_intersecting.groupby(by='index').count()"
   ]
  },
  {
   "cell_type": "code",
   "execution_count": null,
   "id": "1798d902-5565-4594-8d39-2e4b1185182e",
   "metadata": {},
   "outputs": [],
   "source": []
  },
  {
   "cell_type": "code",
   "execution_count": null,
   "id": "cb96601b-538d-43fb-b09a-babdb75b54ab",
   "metadata": {},
   "outputs": [],
   "source": []
  },
  {
   "cell_type": "code",
   "execution_count": null,
   "id": "d962014a-d3fc-4928-a7be-aca2e5832e82",
   "metadata": {},
   "outputs": [],
   "source": [
    "clinics_intersecting = clinics_intersecting.groupby(by='index').count()"
   ]
  },
  {
   "cell_type": "code",
   "execution_count": null,
   "id": "5bcbd1b0-ba31-4e5c-ae6f-fcfaf9b75b34",
   "metadata": {},
   "outputs": [],
   "source": [
    "clinics_intersecting.head()"
   ]
  },
  {
   "cell_type": "code",
   "execution_count": null,
   "id": "189031d8-098a-4c0e-b96c-ecba961acf13",
   "metadata": {},
   "outputs": [],
   "source": [
    "clinics_intersecting['tracts'] = clinics_intersecting.index_right"
   ]
  },
  {
   "cell_type": "code",
   "execution_count": null,
   "id": "799d6f35-553d-42f3-bd93-2279e7e8ec50",
   "metadata": {},
   "outputs": [],
   "source": [
    "clinics_intersecting.head()"
   ]
  },
  {
   "cell_type": "code",
   "execution_count": null,
   "id": "c1da4640-2174-4217-bd39-f0fc14db1121",
   "metadata": {},
   "outputs": [],
   "source": [
    "clinics_df.merge(clinics_intersecting[['tracts']], left_index=True, right_index=True)"
   ]
  },
  {
   "cell_type": "code",
   "execution_count": null,
   "id": "0aa2b1ce-5113-4158-bbe7-8d9429b03db9",
   "metadata": {},
   "outputs": [],
   "source": [
    "clinics_df = clinics_df.merge(clinics_intersecting[['tracts']], left_index=True, right_index=True)"
   ]
  },
  {
   "cell_type": "code",
   "execution_count": null,
   "id": "b38efe03-0da1-4be0-89e1-596d434acbfd",
   "metadata": {},
   "outputs": [],
   "source": [
    "clinics_df.plot(column='tracts', scheme='Quantiles', k=3, legend=True)"
   ]
  },
  {
   "cell_type": "code",
   "execution_count": null,
   "id": "cbe9aab0-a9ae-4201-8713-13ef5b03ad2e",
   "metadata": {},
   "outputs": [],
   "source": []
  }
 ],
 "metadata": {
  "kernelspec": {
   "display_name": "Python 3",
   "language": "python",
   "name": "python3"
  },
  "language_info": {
   "codemirror_mode": {
    "name": "ipython",
    "version": 3
   },
   "file_extension": ".py",
   "mimetype": "text/x-python",
   "name": "python",
   "nbconvert_exporter": "python",
   "pygments_lexer": "ipython3",
   "version": "3.8.8"
  }
 },
 "nbformat": 4,
 "nbformat_minor": 5
}
